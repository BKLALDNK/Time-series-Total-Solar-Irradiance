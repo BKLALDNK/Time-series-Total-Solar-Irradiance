{
 "cells": [
  {
   "cell_type": "markdown",
   "metadata": {},
   "source": [
    "# Total Solar Irradiance Data from NASA's Source Mission - Climate Science\n",
    "\n",
    "Data characterisation and exploration\n",
    "\n",
    "For more information regarding the raw data format:\n",
    "\n",
    "http://lasp.colorado.edu/data/sorce/tsi_data/daily/sorce_tsi_L3_c24h_latest.txt "
   ]
  },
  {
   "cell_type": "markdown",
   "metadata": {},
   "source": [
    "## 1) Import relevant libraries"
   ]
  },
  {
   "cell_type": "code",
   "execution_count": 75,
   "metadata": {},
   "outputs": [],
   "source": [
    "import pandas as pd\n",
    "import numpy as np\n",
    "import matplotlib as mplt"
   ]
  },
  {
   "cell_type": "markdown",
   "metadata": {},
   "source": [
    "## 2) Load data \n",
    "\n",
    "Took the data - http://lasp.colorado.edu/data/sorce/tsi_data/daily/sorce_tsi_L3_c24h_latest.txt\n",
    "\n",
    "Through preprocessing on excel from a txt file to this:"
   ]
  },
  {
   "cell_type": "code",
   "execution_count": 76,
   "metadata": {},
   "outputs": [
    {
     "data": {
      "text/html": [
       "<div>\n",
       "<style scoped>\n",
       "    .dataframe tbody tr th:only-of-type {\n",
       "        vertical-align: middle;\n",
       "    }\n",
       "\n",
       "    .dataframe tbody tr th {\n",
       "        vertical-align: top;\n",
       "    }\n",
       "\n",
       "    .dataframe thead th {\n",
       "        text-align: right;\n",
       "    }\n",
       "</style>\n",
       "<table border=\"1\" class=\"dataframe\">\n",
       "  <thead>\n",
       "    <tr style=\"text-align: right;\">\n",
       "      <th></th>\n",
       "      <th>1</th>\n",
       "      <th>2</th>\n",
       "      <th>3</th>\n",
       "      <th>4</th>\n",
       "      <th>5</th>\n",
       "      <th>6</th>\n",
       "      <th>7</th>\n",
       "      <th>8</th>\n",
       "      <th>9</th>\n",
       "      <th>10</th>\n",
       "      <th>...</th>\n",
       "      <th>12</th>\n",
       "      <th>13</th>\n",
       "      <th>14</th>\n",
       "      <th>15</th>\n",
       "      <th>Unnamed: 15</th>\n",
       "      <th>Unnamed: 16</th>\n",
       "      <th>Unnamed: 17</th>\n",
       "      <th>Unnamed: 18</th>\n",
       "      <th>Unnamed: 19</th>\n",
       "      <th>Unnamed: 20</th>\n",
       "    </tr>\n",
       "  </thead>\n",
       "  <tbody>\n",
       "    <tr>\n",
       "      <th>0</th>\n",
       "      <td>20030225.5</td>\n",
       "      <td>2452696</td>\n",
       "      <td>2452696.409</td>\n",
       "      <td>0.0029</td>\n",
       "      <td>1361.4851</td>\n",
       "      <td>0.477</td>\n",
       "      <td>0.0068</td>\n",
       "      <td>0.0330</td>\n",
       "      <td>0.478</td>\n",
       "      <td>1389.1951</td>\n",
       "      <td>...</td>\n",
       "      <td>0.0068</td>\n",
       "      <td>0.0339</td>\n",
       "      <td>0.487</td>\n",
       "      <td>0</td>\n",
       "      <td>NaN</td>\n",
       "      <td>***DATA</td>\n",
       "      <td>RECORDS***,</td>\n",
       "      <td>number</td>\n",
       "      <td>=</td>\n",
       "      <td>6210.0</td>\n",
       "    </tr>\n",
       "    <tr>\n",
       "      <th>1</th>\n",
       "      <td>20030226.5</td>\n",
       "      <td>2452697</td>\n",
       "      <td>2452697.000</td>\n",
       "      <td>0.0000</td>\n",
       "      <td>0.0000</td>\n",
       "      <td>0.000</td>\n",
       "      <td>0.0000</td>\n",
       "      <td>0.0000</td>\n",
       "      <td>0.000</td>\n",
       "      <td>0.0000</td>\n",
       "      <td>...</td>\n",
       "      <td>0.0000</td>\n",
       "      <td>0.0000</td>\n",
       "      <td>0.000</td>\n",
       "      <td>0</td>\n",
       "      <td>NaN</td>\n",
       "      <td>NaN</td>\n",
       "      <td>NaN</td>\n",
       "      <td>NaN</td>\n",
       "      <td>NaN</td>\n",
       "      <td>NaN</td>\n",
       "    </tr>\n",
       "    <tr>\n",
       "      <th>2</th>\n",
       "      <td>20030227.5</td>\n",
       "      <td>2452698</td>\n",
       "      <td>2452698.007</td>\n",
       "      <td>0.0769</td>\n",
       "      <td>1361.4526</td>\n",
       "      <td>0.477</td>\n",
       "      <td>0.0068</td>\n",
       "      <td>0.0524</td>\n",
       "      <td>0.479</td>\n",
       "      <td>1388.0864</td>\n",
       "      <td>...</td>\n",
       "      <td>0.0068</td>\n",
       "      <td>0.0931</td>\n",
       "      <td>0.495</td>\n",
       "      <td>0</td>\n",
       "      <td>NaN</td>\n",
       "      <td>NaN</td>\n",
       "      <td>NaN</td>\n",
       "      <td>NaN</td>\n",
       "      <td>NaN</td>\n",
       "      <td>NaN</td>\n",
       "    </tr>\n",
       "    <tr>\n",
       "      <th>3</th>\n",
       "      <td>20030228.5</td>\n",
       "      <td>2452699</td>\n",
       "      <td>2452699.000</td>\n",
       "      <td>0.0000</td>\n",
       "      <td>0.0000</td>\n",
       "      <td>0.000</td>\n",
       "      <td>0.0000</td>\n",
       "      <td>0.0000</td>\n",
       "      <td>0.000</td>\n",
       "      <td>0.0000</td>\n",
       "      <td>...</td>\n",
       "      <td>0.0000</td>\n",
       "      <td>0.0000</td>\n",
       "      <td>0.000</td>\n",
       "      <td>0</td>\n",
       "      <td>NaN</td>\n",
       "      <td>NaN</td>\n",
       "      <td>NaN</td>\n",
       "      <td>NaN</td>\n",
       "      <td>NaN</td>\n",
       "      <td>NaN</td>\n",
       "    </tr>\n",
       "    <tr>\n",
       "      <th>4</th>\n",
       "      <td>20030301.5</td>\n",
       "      <td>2452700</td>\n",
       "      <td>2452700.000</td>\n",
       "      <td>0.0000</td>\n",
       "      <td>0.0000</td>\n",
       "      <td>0.000</td>\n",
       "      <td>0.0000</td>\n",
       "      <td>0.0000</td>\n",
       "      <td>0.000</td>\n",
       "      <td>0.0000</td>\n",
       "      <td>...</td>\n",
       "      <td>0.0000</td>\n",
       "      <td>0.0000</td>\n",
       "      <td>0.000</td>\n",
       "      <td>0</td>\n",
       "      <td>NaN</td>\n",
       "      <td>NaN</td>\n",
       "      <td>NaN</td>\n",
       "      <td>NaN</td>\n",
       "      <td>NaN</td>\n",
       "      <td>NaN</td>\n",
       "    </tr>\n",
       "  </tbody>\n",
       "</table>\n",
       "<p>5 rows × 21 columns</p>\n",
       "</div>"
      ],
      "text/plain": [
       "            1        2            3       4          5      6       7       8  \\\n",
       "0  20030225.5  2452696  2452696.409  0.0029  1361.4851  0.477  0.0068  0.0330   \n",
       "1  20030226.5  2452697  2452697.000  0.0000     0.0000  0.000  0.0000  0.0000   \n",
       "2  20030227.5  2452698  2452698.007  0.0769  1361.4526  0.477  0.0068  0.0524   \n",
       "3  20030228.5  2452699  2452699.000  0.0000     0.0000  0.000  0.0000  0.0000   \n",
       "4  20030301.5  2452700  2452700.000  0.0000     0.0000  0.000  0.0000  0.0000   \n",
       "\n",
       "       9         10  ...      12      13     14  15  Unnamed: 15  Unnamed: 16  \\\n",
       "0  0.478  1389.1951  ...  0.0068  0.0339  0.487   0          NaN      ***DATA   \n",
       "1  0.000     0.0000  ...  0.0000  0.0000  0.000   0          NaN          NaN   \n",
       "2  0.479  1388.0864  ...  0.0068  0.0931  0.495   0          NaN          NaN   \n",
       "3  0.000     0.0000  ...  0.0000  0.0000  0.000   0          NaN          NaN   \n",
       "4  0.000     0.0000  ...  0.0000  0.0000  0.000   0          NaN          NaN   \n",
       "\n",
       "   Unnamed: 17 Unnamed: 18 Unnamed: 19 Unnamed: 20  \n",
       "0  RECORDS***,      number           =      6210.0  \n",
       "1          NaN         NaN         NaN         NaN  \n",
       "2          NaN         NaN         NaN         NaN  \n",
       "3          NaN         NaN         NaN         NaN  \n",
       "4          NaN         NaN         NaN         NaN  \n",
       "\n",
       "[5 rows x 21 columns]"
      ]
     },
     "execution_count": 76,
     "metadata": {},
     "output_type": "execute_result"
    }
   ],
   "source": [
    "df = pd.read_csv(\"/Users/bakerkagimu/desktop/TSI.csv\", );\n",
    "df.head()"
   ]
  },
  {
   "cell_type": "code",
   "execution_count": 72,
   "metadata": {},
   "outputs": [],
   "source": [
    "TSIstats = df.copy()"
   ]
  },
  {
   "cell_type": "code",
   "execution_count": 74,
   "metadata": {},
   "outputs": [
    {
     "data": {
      "text/html": [
       "<div>\n",
       "<style scoped>\n",
       "    .dataframe tbody tr th:only-of-type {\n",
       "        vertical-align: middle;\n",
       "    }\n",
       "\n",
       "    .dataframe tbody tr th {\n",
       "        vertical-align: top;\n",
       "    }\n",
       "\n",
       "    .dataframe thead th {\n",
       "        text-align: right;\n",
       "    }\n",
       "</style>\n",
       "<table border=\"1\" class=\"dataframe\">\n",
       "  <thead>\n",
       "    <tr style=\"text-align: right;\">\n",
       "      <th></th>\n",
       "      <th>1</th>\n",
       "      <th>2</th>\n",
       "      <th>3</th>\n",
       "      <th>4</th>\n",
       "      <th>5</th>\n",
       "      <th>6</th>\n",
       "      <th>7</th>\n",
       "      <th>8</th>\n",
       "      <th>9</th>\n",
       "      <th>10</th>\n",
       "      <th>...</th>\n",
       "      <th>12</th>\n",
       "      <th>13</th>\n",
       "      <th>14</th>\n",
       "      <th>15</th>\n",
       "      <th>Unnamed: 15</th>\n",
       "      <th>Unnamed: 16</th>\n",
       "      <th>Unnamed: 17</th>\n",
       "      <th>Unnamed: 18</th>\n",
       "      <th>Unnamed: 19</th>\n",
       "      <th>Unnamed: 20</th>\n",
       "    </tr>\n",
       "  </thead>\n",
       "  <tbody>\n",
       "    <tr>\n",
       "      <th>6205</th>\n",
       "      <td>20200221.5</td>\n",
       "      <td>2458901</td>\n",
       "      <td>2458900.811</td>\n",
       "      <td>0.2217</td>\n",
       "      <td>1360.6554</td>\n",
       "      <td>0.608</td>\n",
       "      <td>0.0068</td>\n",
       "      <td>0.0696</td>\n",
       "      <td>0.612</td>\n",
       "      <td>1391.4982</td>\n",
       "      <td>...</td>\n",
       "      <td>0.0068</td>\n",
       "      <td>0.182</td>\n",
       "      <td>0.648</td>\n",
       "      <td>0</td>\n",
       "      <td>NaN</td>\n",
       "      <td>NaN</td>\n",
       "      <td>NaN</td>\n",
       "      <td>NaN</td>\n",
       "      <td>NaN</td>\n",
       "      <td>NaN</td>\n",
       "    </tr>\n",
       "    <tr>\n",
       "      <th>6206</th>\n",
       "      <td>20200222.5</td>\n",
       "      <td>2458902</td>\n",
       "      <td>2458901.836</td>\n",
       "      <td>0.2220</td>\n",
       "      <td>1360.6310</td>\n",
       "      <td>0.608</td>\n",
       "      <td>0.0068</td>\n",
       "      <td>0.0452</td>\n",
       "      <td>0.609</td>\n",
       "      <td>1390.8350</td>\n",
       "      <td>...</td>\n",
       "      <td>0.0068</td>\n",
       "      <td>0.148</td>\n",
       "      <td>0.638</td>\n",
       "      <td>0</td>\n",
       "      <td>NaN</td>\n",
       "      <td>NaN</td>\n",
       "      <td>NaN</td>\n",
       "      <td>NaN</td>\n",
       "      <td>NaN</td>\n",
       "      <td>NaN</td>\n",
       "    </tr>\n",
       "    <tr>\n",
       "      <th>6207</th>\n",
       "      <td>20200223.5</td>\n",
       "      <td>2458903</td>\n",
       "      <td>2458902.799</td>\n",
       "      <td>0.1882</td>\n",
       "      <td>1360.6291</td>\n",
       "      <td>0.608</td>\n",
       "      <td>0.0068</td>\n",
       "      <td>0.0476</td>\n",
       "      <td>0.609</td>\n",
       "      <td>1390.2294</td>\n",
       "      <td>...</td>\n",
       "      <td>0.0068</td>\n",
       "      <td>0.148</td>\n",
       "      <td>0.638</td>\n",
       "      <td>0</td>\n",
       "      <td>NaN</td>\n",
       "      <td>NaN</td>\n",
       "      <td>NaN</td>\n",
       "      <td>NaN</td>\n",
       "      <td>NaN</td>\n",
       "      <td>NaN</td>\n",
       "    </tr>\n",
       "    <tr>\n",
       "      <th>6208</th>\n",
       "      <td>20200224.5</td>\n",
       "      <td>2458904</td>\n",
       "      <td>2458903.959</td>\n",
       "      <td>0.2822</td>\n",
       "      <td>1360.6348</td>\n",
       "      <td>0.608</td>\n",
       "      <td>0.0068</td>\n",
       "      <td>0.0465</td>\n",
       "      <td>0.609</td>\n",
       "      <td>1389.5007</td>\n",
       "      <td>...</td>\n",
       "      <td>0.0068</td>\n",
       "      <td>0.198</td>\n",
       "      <td>0.651</td>\n",
       "      <td>0</td>\n",
       "      <td>NaN</td>\n",
       "      <td>NaN</td>\n",
       "      <td>NaN</td>\n",
       "      <td>NaN</td>\n",
       "      <td>NaN</td>\n",
       "      <td>NaN</td>\n",
       "    </tr>\n",
       "    <tr>\n",
       "      <th>6209</th>\n",
       "      <td>20200225.5</td>\n",
       "      <td>2458905</td>\n",
       "      <td>2458904.828</td>\n",
       "      <td>0.1697</td>\n",
       "      <td>1360.6126</td>\n",
       "      <td>0.608</td>\n",
       "      <td>0.0068</td>\n",
       "      <td>0.0544</td>\n",
       "      <td>0.610</td>\n",
       "      <td>1388.9237</td>\n",
       "      <td>...</td>\n",
       "      <td>0.0068</td>\n",
       "      <td>0.113</td>\n",
       "      <td>0.630</td>\n",
       "      <td>0</td>\n",
       "      <td>NaN</td>\n",
       "      <td>NaN</td>\n",
       "      <td>NaN</td>\n",
       "      <td>NaN</td>\n",
       "      <td>NaN</td>\n",
       "      <td>NaN</td>\n",
       "    </tr>\n",
       "  </tbody>\n",
       "</table>\n",
       "<p>5 rows × 21 columns</p>\n",
       "</div>"
      ],
      "text/plain": [
       "               1        2            3       4          5      6       7  \\\n",
       "6205  20200221.5  2458901  2458900.811  0.2217  1360.6554  0.608  0.0068   \n",
       "6206  20200222.5  2458902  2458901.836  0.2220  1360.6310  0.608  0.0068   \n",
       "6207  20200223.5  2458903  2458902.799  0.1882  1360.6291  0.608  0.0068   \n",
       "6208  20200224.5  2458904  2458903.959  0.2822  1360.6348  0.608  0.0068   \n",
       "6209  20200225.5  2458905  2458904.828  0.1697  1360.6126  0.608  0.0068   \n",
       "\n",
       "           8      9         10  ...      12     13     14  15  Unnamed: 15  \\\n",
       "6205  0.0696  0.612  1391.4982  ...  0.0068  0.182  0.648   0          NaN   \n",
       "6206  0.0452  0.609  1390.8350  ...  0.0068  0.148  0.638   0          NaN   \n",
       "6207  0.0476  0.609  1390.2294  ...  0.0068  0.148  0.638   0          NaN   \n",
       "6208  0.0465  0.609  1389.5007  ...  0.0068  0.198  0.651   0          NaN   \n",
       "6209  0.0544  0.610  1388.9237  ...  0.0068  0.113  0.630   0          NaN   \n",
       "\n",
       "      Unnamed: 16 Unnamed: 17 Unnamed: 18 Unnamed: 19 Unnamed: 20  \n",
       "6205          NaN         NaN         NaN         NaN         NaN  \n",
       "6206          NaN         NaN         NaN         NaN         NaN  \n",
       "6207          NaN         NaN         NaN         NaN         NaN  \n",
       "6208          NaN         NaN         NaN         NaN         NaN  \n",
       "6209          NaN         NaN         NaN         NaN         NaN  \n",
       "\n",
       "[5 rows x 21 columns]"
      ]
     },
     "execution_count": 74,
     "metadata": {},
     "output_type": "execute_result"
    }
   ],
   "source": [
    "TSIstats.tail()"
   ]
  },
  {
   "cell_type": "markdown",
   "metadata": {},
   "source": [
    "## 3) Source Empirical Daily Total Solar Irradiance (TSI) at 1-AU"
   ]
  },
  {
   "cell_type": "code",
   "execution_count": 90,
   "metadata": {},
   "outputs": [
    {
     "data": {
      "text/html": [
       "<div>\n",
       "<style scoped>\n",
       "    .dataframe tbody tr th:only-of-type {\n",
       "        vertical-align: middle;\n",
       "    }\n",
       "\n",
       "    .dataframe tbody tr th {\n",
       "        vertical-align: top;\n",
       "    }\n",
       "\n",
       "    .dataframe thead th {\n",
       "        text-align: right;\n",
       "    }\n",
       "</style>\n",
       "<table border=\"1\" class=\"dataframe\">\n",
       "  <thead>\n",
       "    <tr style=\"text-align: right;\">\n",
       "      <th></th>\n",
       "      <th>5</th>\n",
       "    </tr>\n",
       "  </thead>\n",
       "  <tbody>\n",
       "    <tr>\n",
       "      <th>0</th>\n",
       "      <td>1361.4851</td>\n",
       "    </tr>\n",
       "    <tr>\n",
       "      <th>1</th>\n",
       "      <td>0.0000</td>\n",
       "    </tr>\n",
       "    <tr>\n",
       "      <th>2</th>\n",
       "      <td>1361.4526</td>\n",
       "    </tr>\n",
       "    <tr>\n",
       "      <th>3</th>\n",
       "      <td>0.0000</td>\n",
       "    </tr>\n",
       "    <tr>\n",
       "      <th>4</th>\n",
       "      <td>0.0000</td>\n",
       "    </tr>\n",
       "    <tr>\n",
       "      <th>...</th>\n",
       "      <td>...</td>\n",
       "    </tr>\n",
       "    <tr>\n",
       "      <th>6205</th>\n",
       "      <td>1360.6554</td>\n",
       "    </tr>\n",
       "    <tr>\n",
       "      <th>6206</th>\n",
       "      <td>1360.6310</td>\n",
       "    </tr>\n",
       "    <tr>\n",
       "      <th>6207</th>\n",
       "      <td>1360.6291</td>\n",
       "    </tr>\n",
       "    <tr>\n",
       "      <th>6208</th>\n",
       "      <td>1360.6348</td>\n",
       "    </tr>\n",
       "    <tr>\n",
       "      <th>6209</th>\n",
       "      <td>1360.6126</td>\n",
       "    </tr>\n",
       "  </tbody>\n",
       "</table>\n",
       "<p>6210 rows × 1 columns</p>\n",
       "</div>"
      ],
      "text/plain": [
       "              5\n",
       "0     1361.4851\n",
       "1        0.0000\n",
       "2     1361.4526\n",
       "3        0.0000\n",
       "4        0.0000\n",
       "...         ...\n",
       "6205  1360.6554\n",
       "6206  1360.6310\n",
       "6207  1360.6291\n",
       "6208  1360.6348\n",
       "6209  1360.6126\n",
       "\n",
       "[6210 rows x 1 columns]"
      ]
     },
     "execution_count": 90,
     "metadata": {},
     "output_type": "execute_result"
    }
   ],
   "source": [
    "TSIdaily = df[['5']].copy()\n",
    "TSIdaily"
   ]
  },
  {
   "cell_type": "markdown",
   "metadata": {},
   "source": [
    "## 4) Itterative ARIMA estimation for TSI"
   ]
  },
  {
   "cell_type": "code",
   "execution_count": 92,
   "metadata": {},
   "outputs": [
    {
     "name": "stdout",
     "output_type": "stream",
     "text": [
      "Performing stepwise search to minimize aic\n",
      " ARIMA(1,0,1)(0,0,0)[0] intercept   : AIC=77930.558, Time=2.67 sec\n",
      " ARIMA(0,0,0)(0,0,0)[0] intercept   : AIC=88648.587, Time=0.10 sec\n",
      " ARIMA(1,0,0)(0,0,0)[0] intercept   : AIC=78134.182, Time=0.19 sec\n",
      " ARIMA(0,0,1)(0,0,0)[0] intercept   : AIC=83856.072, Time=1.03 sec\n",
      " ARIMA(0,0,0)(0,0,0)[0]             : AIC=106909.582, Time=0.06 sec\n",
      " ARIMA(2,0,1)(0,0,0)[0] intercept   : AIC=77933.216, Time=1.86 sec\n",
      " ARIMA(1,0,2)(0,0,0)[0] intercept   : AIC=77937.471, Time=1.50 sec\n",
      " ARIMA(0,0,2)(0,0,0)[0] intercept   : AIC=81693.225, Time=1.65 sec\n",
      " ARIMA(2,0,0)(0,0,0)[0] intercept   : AIC=77934.972, Time=1.21 sec\n"
     ]
    },
    {
     "name": "stderr",
     "output_type": "stream",
     "text": [
      "/Users/bakerkagimu/opt/anaconda3/lib/python3.7/site-packages/statsmodels/tsa/statespace/sarimax.py:966: UserWarning: Non-stationary starting autoregressive parameters found. Using zeros as starting parameters.\n",
      "  warn('Non-stationary starting autoregressive parameters'\n",
      "/Users/bakerkagimu/opt/anaconda3/lib/python3.7/site-packages/statsmodels/tsa/statespace/sarimax.py:978: UserWarning: Non-invertible starting MA parameters found. Using zeros as starting parameters.\n",
      "  warn('Non-invertible starting MA parameters found.'\n"
     ]
    },
    {
     "name": "stdout",
     "output_type": "stream",
     "text": [
      " ARIMA(2,0,2)(0,0,0)[0] intercept   : AIC=77934.343, Time=3.87 sec\n",
      " ARIMA(1,0,1)(0,0,0)[0]             : AIC=78106.049, Time=0.48 sec\n",
      "\n",
      "Best model:  ARIMA(1,0,1)(0,0,0)[0] intercept\n",
      "Total fit time: 14.799 seconds\n"
     ]
    },
    {
     "data": {
      "text/html": [
       "<table class=\"simpletable\">\n",
       "<caption>SARIMAX Results</caption>\n",
       "<tr>\n",
       "  <th>Dep. Variable:</th>           <td>y</td>        <th>  No. Observations:  </th>    <td>6210</td>   \n",
       "</tr>\n",
       "<tr>\n",
       "  <th>Model:</th>           <td>SARIMAX(1, 0, 1)</td> <th>  Log Likelihood     </th> <td>-38961.279</td>\n",
       "</tr>\n",
       "<tr>\n",
       "  <th>Date:</th>            <td>Fri, 15 Jan 2021</td> <th>  AIC                </th>  <td>77930.558</td>\n",
       "</tr>\n",
       "<tr>\n",
       "  <th>Time:</th>                <td>02:47:03</td>     <th>  BIC                </th>  <td>77957.494</td>\n",
       "</tr>\n",
       "<tr>\n",
       "  <th>Sample:</th>                  <td>0</td>        <th>  HQIC               </th>  <td>77939.896</td>\n",
       "</tr>\n",
       "<tr>\n",
       "  <th></th>                      <td> - 6210</td>     <th>                     </th>      <td> </td>    \n",
       "</tr>\n",
       "<tr>\n",
       "  <th>Covariance Type:</th>        <td>opg</td>       <th>                     </th>      <td> </td>    \n",
       "</tr>\n",
       "</table>\n",
       "<table class=\"simpletable\">\n",
       "<tr>\n",
       "      <td></td>         <th>coef</th>     <th>std err</th>      <th>z</th>      <th>P>|z|</th>  <th>[0.025</th>    <th>0.975]</th>  \n",
       "</tr>\n",
       "<tr>\n",
       "  <th>intercept</th> <td>   78.4991</td> <td>    5.580</td> <td>   14.069</td> <td> 0.000</td> <td>   67.563</td> <td>   89.435</td>\n",
       "</tr>\n",
       "<tr>\n",
       "  <th>ar.L1</th>     <td>    0.9391</td> <td>    0.008</td> <td>  115.647</td> <td> 0.000</td> <td>    0.923</td> <td>    0.955</td>\n",
       "</tr>\n",
       "<tr>\n",
       "  <th>ma.L1</th>     <td>   -0.2010</td> <td>    0.004</td> <td>  -55.744</td> <td> 0.000</td> <td>   -0.208</td> <td>   -0.194</td>\n",
       "</tr>\n",
       "<tr>\n",
       "  <th>sigma2</th>    <td> 1.648e+04</td> <td>  174.434</td> <td>   94.463</td> <td> 0.000</td> <td> 1.61e+04</td> <td> 1.68e+04</td>\n",
       "</tr>\n",
       "</table>\n",
       "<table class=\"simpletable\">\n",
       "<tr>\n",
       "  <th>Ljung-Box (L1) (Q):</th>     <td>0.00</td> <th>  Jarque-Bera (JB):  </th> <td>2097042.27</td>\n",
       "</tr>\n",
       "<tr>\n",
       "  <th>Prob(Q):</th>                <td>0.99</td> <th>  Prob(JB):          </th>    <td>0.00</td>   \n",
       "</tr>\n",
       "<tr>\n",
       "  <th>Heteroskedasticity (H):</th> <td>1.60</td> <th>  Skew:              </th>    <td>-1.80</td>  \n",
       "</tr>\n",
       "<tr>\n",
       "  <th>Prob(H) (two-sided):</th>    <td>0.00</td> <th>  Kurtosis:          </th>    <td>92.95</td>  \n",
       "</tr>\n",
       "</table><br/><br/>Warnings:<br/>[1] Covariance matrix calculated using the outer product of gradients (complex-step)."
      ],
      "text/plain": [
       "<class 'statsmodels.iolib.summary.Summary'>\n",
       "\"\"\"\n",
       "                               SARIMAX Results                                \n",
       "==============================================================================\n",
       "Dep. Variable:                      y   No. Observations:                 6210\n",
       "Model:               SARIMAX(1, 0, 1)   Log Likelihood              -38961.279\n",
       "Date:                Fri, 15 Jan 2021   AIC                          77930.558\n",
       "Time:                        02:47:03   BIC                          77957.494\n",
       "Sample:                             0   HQIC                         77939.896\n",
       "                               - 6210                                         \n",
       "Covariance Type:                  opg                                         \n",
       "==============================================================================\n",
       "                 coef    std err          z      P>|z|      [0.025      0.975]\n",
       "------------------------------------------------------------------------------\n",
       "intercept     78.4991      5.580     14.069      0.000      67.563      89.435\n",
       "ar.L1          0.9391      0.008    115.647      0.000       0.923       0.955\n",
       "ma.L1         -0.2010      0.004    -55.744      0.000      -0.208      -0.194\n",
       "sigma2      1.648e+04    174.434     94.463      0.000    1.61e+04    1.68e+04\n",
       "===================================================================================\n",
       "Ljung-Box (L1) (Q):                   0.00   Jarque-Bera (JB):           2097042.27\n",
       "Prob(Q):                              0.99   Prob(JB):                         0.00\n",
       "Heteroskedasticity (H):               1.60   Skew:                            -1.80\n",
       "Prob(H) (two-sided):                  0.00   Kurtosis:                        92.95\n",
       "===================================================================================\n",
       "\n",
       "Warnings:\n",
       "[1] Covariance matrix calculated using the outer product of gradients (complex-step).\n",
       "\"\"\""
      ]
     },
     "execution_count": 92,
     "metadata": {},
     "output_type": "execute_result"
    }
   ],
   "source": [
    "import pmdarima as pmd\n",
    "def arimamodel(TSIdaily):\n",
    "    autoarima_model = pmd.auto_arima(TSIdaily, \n",
    "                              start_p=1, \n",
    "                              start_q=1,\n",
    "                              test=\"adf\",\n",
    "                              trace=True)\n",
    "    return autoarima_model\n",
    "arima_model = arimamodel(TSIdaily)\n",
    "arima_model.summary()"
   ]
  },
  {
   "cell_type": "markdown",
   "metadata": {},
   "source": [
    "## 5) Plot daily TSI"
   ]
  },
  {
   "cell_type": "code",
   "execution_count": 139,
   "metadata": {},
   "outputs": [
    {
     "data": {
      "image/png": "[encoded data removed]",
      "text/plain": [
       "<Figure size 576x432 with 1 Axes>"
      ]
     },
     "metadata": {
      "needs_background": "light"
     },
     "output_type": "display_data"
    }
   ],
   "source": [
    "from matplotlib import pyplot\n",
    "TSIdaily.plot()\n",
    "pyplot.show()\n"
   ]
  },
  {
   "cell_type": "markdown",
   "metadata": {},
   "source": [
    "## 6) Values below 800 should be taken out, average TSI = 1365 w/m^2 at 1 AU "
   ]
  },
  {
   "cell_type": "code",
   "execution_count": 102,
   "metadata": {},
   "outputs": [],
   "source": [
    "TSI = df[800<df['5']]"
   ]
  },
  {
   "cell_type": "code",
   "execution_count": 103,
   "metadata": {},
   "outputs": [
    {
     "name": "stdout",
     "output_type": "stream",
     "text": [
      "               1        2            3       4          5      6       7  \\\n",
      "0     20030225.5  2452696  2452696.409  0.0029  1361.4851  0.477  0.0068   \n",
      "2     20030227.5  2452698  2452698.007  0.0769  1361.4526  0.477  0.0068   \n",
      "8     20030305.5  2452704  2452703.583  0.0561  1361.3010  0.477  0.0068   \n",
      "10    20030307.5  2452706  2452706.022  0.4405  1361.3560  0.477  0.0068   \n",
      "11    20030308.5  2452707  2452706.757  0.3628  1361.3339  0.477  0.0068   \n",
      "...          ...      ...          ...     ...        ...    ...     ...   \n",
      "6205  20200221.5  2458901  2458900.811  0.2217  1360.6554  0.608  0.0068   \n",
      "6206  20200222.5  2458902  2458901.836  0.2220  1360.6310  0.608  0.0068   \n",
      "6207  20200223.5  2458903  2458902.799  0.1882  1360.6291  0.608  0.0068   \n",
      "6208  20200224.5  2458904  2458903.959  0.2822  1360.6348  0.608  0.0068   \n",
      "6209  20200225.5  2458905  2458904.828  0.1697  1360.6126  0.608  0.0068   \n",
      "\n",
      "           8      9         10  ...      12      13     14  15  Unnamed: 15  \\\n",
      "0     0.0330  0.478  1389.1951  ...  0.0068  0.0339  0.487   0          NaN   \n",
      "2     0.0524  0.479  1388.0864  ...  0.0068  0.0931  0.495   0          NaN   \n",
      "8     0.0349  0.478  1384.0960  ...  0.0068  0.0504  0.487   0          NaN   \n",
      "10    0.0607  0.480  1382.4427  ...  0.0068  0.2970  0.568   0          NaN   \n",
      "11    0.0470  0.479  1381.9011  ...  0.0068  0.2720  0.555   0          NaN   \n",
      "...      ...    ...        ...  ...     ...     ...    ...  ..          ...   \n",
      "6205  0.0696  0.612  1391.4982  ...  0.0068  0.1820  0.648   0          NaN   \n",
      "6206  0.0452  0.609  1390.8350  ...  0.0068  0.1480  0.638   0          NaN   \n",
      "6207  0.0476  0.609  1390.2294  ...  0.0068  0.1480  0.638   0          NaN   \n",
      "6208  0.0465  0.609  1389.5007  ...  0.0068  0.1980  0.651   0          NaN   \n",
      "6209  0.0544  0.610  1388.9237  ...  0.0068  0.1130  0.630   0          NaN   \n",
      "\n",
      "      Unnamed: 16  Unnamed: 17 Unnamed: 18 Unnamed: 19 Unnamed: 20  \n",
      "0         ***DATA  RECORDS***,      number           =      6210.0  \n",
      "2             NaN          NaN         NaN         NaN         NaN  \n",
      "8             NaN          NaN         NaN         NaN         NaN  \n",
      "10            NaN          NaN         NaN         NaN         NaN  \n",
      "11            NaN          NaN         NaN         NaN         NaN  \n",
      "...           ...          ...         ...         ...         ...  \n",
      "6205          NaN          NaN         NaN         NaN         NaN  \n",
      "6206          NaN          NaN         NaN         NaN         NaN  \n",
      "6207          NaN          NaN         NaN         NaN         NaN  \n",
      "6208          NaN          NaN         NaN         NaN         NaN  \n",
      "6209          NaN          NaN         NaN         NaN         NaN  \n",
      "\n",
      "[5882 rows x 21 columns]\n"
     ]
    }
   ],
   "source": [
    "print(TSI)"
   ]
  },
  {
   "cell_type": "code",
   "execution_count": 95,
   "metadata": {},
   "outputs": [
    {
     "data": {
      "text/plain": [
       "<matplotlib.axes._subplots.AxesSubplot at 0x7ff0f7ed4c50>"
      ]
     },
     "execution_count": 95,
     "metadata": {},
     "output_type": "execute_result"
    },
    {
     "data": {
      "image/png": "[encoded data removed]",
      "text/plain": [
       "<Figure size 576x432 with 1 Axes>"
      ]
     },
     "metadata": {
      "needs_background": "light"
     },
     "output_type": "display_data"
    }
   ],
   "source": [
    "TSI['5'].plot()"
   ]
  },
  {
   "cell_type": "markdown",
   "metadata": {},
   "source": [
    "## 7 Violin plot provides:\n",
    "\n",
    "- Median\n",
    "- Interquartile ranges\n",
    "- Distribution\n",
    "- Spread"
   ]
  },
  {
   "cell_type": "code",
   "execution_count": 106,
   "metadata": {},
   "outputs": [],
   "source": [
    "var = TSI['5']"
   ]
  },
  {
   "cell_type": "code",
   "execution_count": 107,
   "metadata": {},
   "outputs": [
    {
     "data": {
      "text/plain": [
       "<matplotlib.axes._subplots.AxesSubplot at 0x7ff0fdeb4550>"
      ]
     },
     "execution_count": 107,
     "metadata": {},
     "output_type": "execute_result"
    },
    {
     "data": {
      "image/png": "[encoded data removed]",
      "text/plain": [
       "<Figure size 576x432 with 1 Axes>"
      ]
     },
     "metadata": {
      "needs_background": "light"
     },
     "output_type": "display_data"
    }
   ],
   "source": [
    "sns.violinplot(var)"
   ]
  },
  {
   "cell_type": "markdown",
   "metadata": {},
   "source": [
    "## 8) Check distribution "
   ]
  },
  {
   "cell_type": "code",
   "execution_count": 108,
   "metadata": {
    "scrolled": true
   },
   "outputs": [
    {
     "data": {
      "text/plain": [
       "<matplotlib.axes._subplots.AxesSubplot at 0x7ff0fde5a9d0>"
      ]
     },
     "execution_count": 108,
     "metadata": {},
     "output_type": "execute_result"
    },
    {
     "data": {
      "image/png": "[encoded data removed]",
      "text/plain": [
       "<Figure size 576x432 with 1 Axes>"
      ]
     },
     "metadata": {
      "needs_background": "light"
     },
     "output_type": "display_data"
    }
   ],
   "source": [
    "import seaborn as sns\n",
    "sns.distplot(TSI['5'])"
   ]
  },
  {
   "cell_type": "markdown",
   "metadata": {},
   "source": [
    "Would have hoped for normally distributed at 1365 w/m^2"
   ]
  },
  {
   "cell_type": "markdown",
   "metadata": {},
   "source": [
    "## 9) Check for stationariy: Augmented Dickey-Fuller test\n",
    "\n",
    "Null hypothesis that the time series is non-stationary, ie either of the mean, variance and covariance vary with time\n",
    "\n",
    "Ideally we can reject the null hypothesis at the 1 - 10% significant level(s)"
   ]
  },
  {
   "cell_type": "code",
   "execution_count": 110,
   "metadata": {},
   "outputs": [
    {
     "name": "stdout",
     "output_type": "stream",
     "text": [
      "ADF Statistic: -4.091967\n",
      "p-value: 0.000999\n",
      "Critical Values:\n",
      "\t1%: -3.431\n",
      "\t5%: -2.862\n",
      "\t10%: -2.567\n"
     ]
    }
   ],
   "source": [
    "from pandas import read_csv\n",
    "from statsmodels.tsa.stattools import adfuller\n",
    "result = adfuller(var)\n",
    "print('ADF Statistic: %f' % result[0])\n",
    "print('p-value: %f' % result[1])\n",
    "print('Critical Values:')\n",
    "for key, value in result[4].items():\n",
    "\tprint('\\t%s: %.3f' % (key, value))"
   ]
  },
  {
   "cell_type": "markdown",
   "metadata": {},
   "source": [
    "## 9a) ADF Test\n",
    "\n",
    "We can reject the null hypothesis at the 1-10% confidence interval.\n",
    "\n",
    "Low p-value suggests it is highly unlikely that the observed time series came about by chance"
   ]
  },
  {
   "cell_type": "markdown",
   "metadata": {},
   "source": [
    "## 10) Source Standard deviation"
   ]
  },
  {
   "cell_type": "code",
   "execution_count": 115,
   "metadata": {},
   "outputs": [],
   "source": [
    "TSI_standard_deviation = df[\"8\"]"
   ]
  },
  {
   "cell_type": "code",
   "execution_count": 116,
   "metadata": {},
   "outputs": [
    {
     "data": {
      "text/plain": [
       "0.535"
      ]
     },
     "execution_count": 116,
     "metadata": {},
     "output_type": "execute_result"
    }
   ],
   "source": [
    "max(TSI_standard_deviation)"
   ]
  },
  {
   "cell_type": "code",
   "execution_count": 120,
   "metadata": {},
   "outputs": [
    {
     "data": {
      "text/plain": [
       "0.0"
      ]
     },
     "execution_count": 120,
     "metadata": {},
     "output_type": "execute_result"
    }
   ],
   "source": [
    "min(TSI_standard_deviation)"
   ]
  },
  {
   "cell_type": "markdown",
   "metadata": {},
   "source": [
    "## 11) Check Distribution of TSI without zero values"
   ]
  },
  {
   "cell_type": "code",
   "execution_count": 143,
   "metadata": {},
   "outputs": [
    {
     "data": {
      "text/plain": [
       "<matplotlib.axes._subplots.AxesSubplot at 0x7ff0ff4b4150>"
      ]
     },
     "execution_count": 143,
     "metadata": {},
     "output_type": "execute_result"
    },
    {
     "data": {
      "image/png": "[encoded data removed]",
      "text/plain": [
       "<Figure size 576x432 with 1 Axes>"
      ]
     },
     "metadata": {
      "needs_background": "light"
     },
     "output_type": "display_data"
    }
   ],
   "source": [
    "var.hist()"
   ]
  },
  {
   "cell_type": "code",
   "execution_count": 144,
   "metadata": {},
   "outputs": [
    {
     "data": {
      "text/plain": [
       "1357.0188"
      ]
     },
     "execution_count": 144,
     "metadata": {},
     "output_type": "execute_result"
    }
   ],
   "source": [
    "min(var)"
   ]
  },
  {
   "cell_type": "code",
   "execution_count": 145,
   "metadata": {},
   "outputs": [
    {
     "data": {
      "text/plain": [
       "1362.2784"
      ]
     },
     "execution_count": 145,
     "metadata": {},
     "output_type": "execute_result"
    }
   ],
   "source": [
    "max(var)"
   ]
  },
  {
   "cell_type": "markdown",
   "metadata": {},
   "source": [
    "## 12) Plot standard deviation"
   ]
  },
  {
   "cell_type": "code",
   "execution_count": 122,
   "metadata": {},
   "outputs": [
    {
     "data": {
      "text/plain": [
       "<matplotlib.axes._subplots.AxesSubplot at 0x7ff11658b4d0>"
      ]
     },
     "execution_count": 122,
     "metadata": {},
     "output_type": "execute_result"
    },
    {
     "data": {
      "image/png": "[encoded data removed]",
      "text/plain": [
       "<Figure size 576x432 with 1 Axes>"
      ]
     },
     "metadata": {
      "needs_background": "light"
     },
     "output_type": "display_data"
    }
   ],
   "source": [
    "standard_deviation.plot()"
   ]
  },
  {
   "cell_type": "markdown",
   "metadata": {},
   "source": [
    "## 13) Total Uncertainty in TSI at Earth "
   ]
  },
  {
   "cell_type": "code",
   "execution_count": 146,
   "metadata": {},
   "outputs": [],
   "source": [
    "Ucern = df['14']"
   ]
  },
  {
   "cell_type": "code",
   "execution_count": 147,
   "metadata": {},
   "outputs": [
    {
     "data": {
      "text/plain": [
       "<matplotlib.axes._subplots.AxesSubplot at 0x7ff0ffa657d0>"
      ]
     },
     "execution_count": 147,
     "metadata": {},
     "output_type": "execute_result"
    },
    {
     "data": {
      "image/png": "[encoded data removed]",
      "text/plain": [
       "<Figure size 576x432 with 1 Axes>"
      ]
     },
     "metadata": {
      "needs_background": "light"
     },
     "output_type": "display_data"
    }
   ],
   "source": [
    "Ucern.plot()"
   ]
  },
  {
   "cell_type": "markdown",
   "metadata": {},
   "source": [
    "Need to remove zeros"
   ]
  }
 ],
 "metadata": {
  "kernelspec": {
   "display_name": "Python 3",
   "language": "python",
   "name": "python3"
  },
  "language_info": {
   "codemirror_mode": {
    "name": "ipython",
    "version": 3
   },
   "file_extension": ".py",
   "mimetype": "text/x-python",
   "name": "python",
   "nbconvert_exporter": "python",
   "pygments_lexer": "ipython3",
   "version": "3.7.6"
  }
 },
 "nbformat": 4,
 "nbformat_minor": 4
}
